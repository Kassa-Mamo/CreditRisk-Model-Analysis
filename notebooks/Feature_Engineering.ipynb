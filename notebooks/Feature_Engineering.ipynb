{
 "cells": [
  {
   "cell_type": "code",
   "execution_count": null,
   "metadata": {},
   "outputs": [],
   "source": [
    "Task 3"
   ]
  },
  {
   "cell_type": "code",
   "execution_count": 4,
   "metadata": {},
   "outputs": [
    {
     "name": "stdout",
     "output_type": "stream",
     "text": [
      "         TransactionId         BatchId       AccountId       SubscriptionId  \\\n",
      "0  TransactionId_76871   BatchId_36123  AccountId_3957   SubscriptionId_887   \n",
      "1  TransactionId_73770   BatchId_15642  AccountId_4841  SubscriptionId_3829   \n",
      "2  TransactionId_26203   BatchId_53941  AccountId_4229   SubscriptionId_222   \n",
      "3    TransactionId_380  BatchId_102363   AccountId_648  SubscriptionId_2185   \n",
      "4  TransactionId_28195   BatchId_38780  AccountId_4841  SubscriptionId_3829   \n",
      "\n",
      "        CustomerId CurrencyCode  CountryCode    ProviderId     ProductId  \\\n",
      "0  CustomerId_4406          UGX          256  ProviderId_6  ProductId_10   \n",
      "1  CustomerId_4406          UGX          256  ProviderId_4   ProductId_6   \n",
      "2  CustomerId_4683          UGX          256  ProviderId_6   ProductId_1   \n",
      "3   CustomerId_988          UGX          256  ProviderId_1  ProductId_21   \n",
      "4   CustomerId_988          UGX          256  ProviderId_4   ProductId_6   \n",
      "\n",
      "      ProductCategory    ChannelId   Amount  Value  TransactionStartTime  \\\n",
      "0             airtime  ChannelId_3   1000.0   1000  2018-11-15T02:18:49Z   \n",
      "1  financial_services  ChannelId_2    -20.0     20  2018-11-15T02:19:08Z   \n",
      "2             airtime  ChannelId_3    500.0    500  2018-11-15T02:44:21Z   \n",
      "3        utility_bill  ChannelId_3  20000.0  21800  2018-11-15T03:32:55Z   \n",
      "4  financial_services  ChannelId_2   -644.0    644  2018-11-15T03:34:21Z   \n",
      "\n",
      "   PricingStrategy  FraudResult  \n",
      "0                2            0  \n",
      "1                2            0  \n",
      "2                2            0  \n",
      "3                2            0  \n",
      "4                2            0  \n",
      "Index(['TransactionId', 'BatchId', 'AccountId', 'SubscriptionId', 'CustomerId',\n",
      "       'CurrencyCode', 'CountryCode', 'ProviderId', 'ProductId',\n",
      "       'ProductCategory', 'ChannelId', 'Amount', 'Value',\n",
      "       'TransactionStartTime', 'PricingStrategy', 'FraudResult'],\n",
      "      dtype='object')\n"
     ]
    }
   ],
   "source": [
    "import pandas as pd\n",
    "\n",
    "# Load the dataset\n",
    "data_path = \"C:/Users/user/Desktop/10 Academy- Machine-Learning/10 Academy W6/data/data.csv\"\n",
    "df = pd.read_csv(data_path)\n",
    "\n",
    "# Print the first few rows and column names to check the data structure\n",
    "print(df.head())\n",
    "print(df.columns)\n"
   ]
  },
  {
   "cell_type": "code",
   "execution_count": 5,
   "metadata": {},
   "outputs": [
    {
     "name": "stdout",
     "output_type": "stream",
     "text": [
      "         TransactionId         BatchId       AccountId       SubscriptionId  \\\n",
      "0  TransactionId_76871   BatchId_36123  AccountId_3957   SubscriptionId_887   \n",
      "1  TransactionId_73770   BatchId_15642  AccountId_4841  SubscriptionId_3829   \n",
      "2  TransactionId_26203   BatchId_53941  AccountId_4229   SubscriptionId_222   \n",
      "3    TransactionId_380  BatchId_102363   AccountId_648  SubscriptionId_2185   \n",
      "4  TransactionId_28195   BatchId_38780  AccountId_4841  SubscriptionId_3829   \n",
      "\n",
      "        CustomerId CurrencyCode  CountryCode    ProviderId     ProductId  \\\n",
      "0  CustomerId_4406          UGX          256  ProviderId_6  ProductId_10   \n",
      "1  CustomerId_4406          UGX          256  ProviderId_4   ProductId_6   \n",
      "2  CustomerId_4683          UGX          256  ProviderId_6   ProductId_1   \n",
      "3   CustomerId_988          UGX          256  ProviderId_1  ProductId_21   \n",
      "4   CustomerId_988          UGX          256  ProviderId_4   ProductId_6   \n",
      "\n",
      "     ChannelId  ...  ProductCategory_data_bundles  \\\n",
      "0  ChannelId_3  ...                         False   \n",
      "1  ChannelId_2  ...                         False   \n",
      "2  ChannelId_3  ...                         False   \n",
      "3  ChannelId_3  ...                         False   \n",
      "4  ChannelId_2  ...                         False   \n",
      "\n",
      "   ProductCategory_financial_services ProductCategory_movies  \\\n",
      "0                               False                  False   \n",
      "1                                True                  False   \n",
      "2                               False                  False   \n",
      "3                               False                  False   \n",
      "4                                True                  False   \n",
      "\n",
      "   ProductCategory_other  ProductCategory_ticket  ProductCategory_transport  \\\n",
      "0                  False                   False                      False   \n",
      "1                  False                   False                      False   \n",
      "2                  False                   False                      False   \n",
      "3                  False                   False                      False   \n",
      "4                  False                   False                      False   \n",
      "\n",
      "   ProductCategory_tv  ProductCategory_utility_bill  ProductId_Encoded  \\\n",
      "0               False                         False                  1   \n",
      "1               False                         False                 19   \n",
      "2               False                         False                  0   \n",
      "3               False                          True                 11   \n",
      "4               False                         False                 19   \n",
      "\n",
      "   Amount_Normalized  \n",
      "0          -0.046371  \n",
      "1          -0.054643  \n",
      "2          -0.050426  \n",
      "3           0.107717  \n",
      "4          -0.059704  \n",
      "\n",
      "[5 rows x 34 columns]\n"
     ]
    },
    {
     "name": "stderr",
     "output_type": "stream",
     "text": [
      "C:\\Users\\user\\AppData\\Local\\Temp\\ipykernel_11220\\2766607037.py:28: FutureWarning: A value is trying to be set on a copy of a DataFrame or Series through chained assignment using an inplace method.\n",
      "The behavior will change in pandas 3.0. This inplace method will never work because the intermediate object on which we are setting values always behaves as a copy.\n",
      "\n",
      "For example, when doing 'df[col].method(value, inplace=True)', try using 'df.method({col: value}, inplace=True)' or df[col] = df[col].method(value) instead, to perform the operation inplace on the original object.\n",
      "\n",
      "\n",
      "  df['Amount'].fillna(df['Amount'].mean(), inplace=True)\n"
     ]
    }
   ],
   "source": [
    "import pandas as pd\n",
    "\n",
    "# Load the dataset\n",
    "data_path = \"C:/Users/user/Desktop/10 Academy- Machine-Learning/10 Academy W6/data/data.csv\"\n",
    "df = pd.read_csv(data_path)\n",
    "\n",
    "# 1. Aggregate Features\n",
    "df['Total_Transaction_Amount'] = df.groupby('CustomerId')['Amount'].transform('sum')\n",
    "df['Avg_Transaction_Amount'] = df.groupby('CustomerId')['Amount'].transform('mean')\n",
    "df['Transaction_Count'] = df.groupby('CustomerId')['Amount'].transform('count')\n",
    "df['Transaction_Std_Dev'] = df.groupby('CustomerId')['Amount'].transform('std')\n",
    "\n",
    "# 2. Extract Features\n",
    "df['Transaction_Hour'] = pd.to_datetime(df['TransactionStartTime']).dt.hour\n",
    "df['Transaction_Day'] = pd.to_datetime(df['TransactionStartTime']).dt.day\n",
    "df['Transaction_Month'] = pd.to_datetime(df['TransactionStartTime']).dt.month\n",
    "df['Transaction_Year'] = pd.to_datetime(df['TransactionStartTime']).dt.year\n",
    "\n",
    "# 3. Encode Categorical Variables\n",
    "# Example of One-Hot Encoding for ProductCategory\n",
    "df = pd.get_dummies(df, columns=['ProductCategory'])\n",
    "\n",
    "# Example of Label Encoding for ProductId\n",
    "df['ProductId_Encoded'] = df['ProductId'].astype('category').cat.codes\n",
    "\n",
    "# 4. Handle Missing Values\n",
    "# For example, using mean imputation for missing Amount\n",
    "df['Amount'].fillna(df['Amount'].mean(), inplace=True)\n",
    "\n",
    "# 5. Normalize/Standardize Numerical Features\n",
    "from sklearn.preprocessing import StandardScaler\n",
    "scaler = StandardScaler()\n",
    "\n",
    "# Normalize the 'Amount' column as an example\n",
    "df['Amount_Normalized'] = scaler.fit_transform(df[['Amount']])\n",
    "\n",
    "# Show the updated dataframe with new features\n",
    "print(df.head())\n"
   ]
  },
  {
   "cell_type": "code",
   "execution_count": 6,
   "metadata": {},
   "outputs": [
    {
     "name": "stdout",
     "output_type": "stream",
     "text": [
      "        CustomerId  Total_Transaction_Amount  Avg_Transaction_Amount  \\\n",
      "0  CustomerId_4406                 109921.75              923.712185   \n",
      "1  CustomerId_4406                 109921.75              923.712185   \n",
      "2  CustomerId_4683                   1000.00              500.000000   \n",
      "3   CustomerId_988                 228727.20             6019.136842   \n",
      "4   CustomerId_988                 228727.20             6019.136842   \n",
      "\n",
      "   Transaction_Count  Transaction_Std_Dev  \n",
      "0                119          3042.294251  \n",
      "1                119          3042.294251  \n",
      "2                  2             0.000000  \n",
      "3                 38         17169.241610  \n",
      "4                 38         17169.241610  \n"
     ]
    }
   ],
   "source": [
    "print(df[['CustomerId', 'Total_Transaction_Amount', 'Avg_Transaction_Amount', 'Transaction_Count', 'Transaction_Std_Dev']].head())\n"
   ]
  },
  {
   "cell_type": "code",
   "execution_count": 7,
   "metadata": {},
   "outputs": [
    {
     "name": "stdout",
     "output_type": "stream",
     "text": [
      "        CustomerId  Transaction_Hour  Transaction_Day  Transaction_Month  \\\n",
      "0  CustomerId_4406                 2               15                 11   \n",
      "1  CustomerId_4406                 2               15                 11   \n",
      "2  CustomerId_4683                 2               15                 11   \n",
      "3   CustomerId_988                 3               15                 11   \n",
      "4   CustomerId_988                 3               15                 11   \n",
      "\n",
      "   Transaction_Year  \n",
      "0              2018  \n",
      "1              2018  \n",
      "2              2018  \n",
      "3              2018  \n",
      "4              2018  \n"
     ]
    }
   ],
   "source": [
    "print(df[['CustomerId', 'Transaction_Hour', 'Transaction_Day', 'Transaction_Month', 'Transaction_Year']].head())\n"
   ]
  },
  {
   "cell_type": "code",
   "execution_count": 8,
   "metadata": {},
   "outputs": [],
   "source": [
    "df['Amount'] = df['Amount'].fillna(df['Amount'].mean())\n"
   ]
  }
 ],
 "metadata": {
  "kernelspec": {
   "display_name": "venv",
   "language": "python",
   "name": "python3"
  },
  "language_info": {
   "codemirror_mode": {
    "name": "ipython",
    "version": 3
   },
   "file_extension": ".py",
   "mimetype": "text/x-python",
   "name": "python",
   "nbconvert_exporter": "python",
   "pygments_lexer": "ipython3",
   "version": "3.11.6"
  }
 },
 "nbformat": 4,
 "nbformat_minor": 2
}
